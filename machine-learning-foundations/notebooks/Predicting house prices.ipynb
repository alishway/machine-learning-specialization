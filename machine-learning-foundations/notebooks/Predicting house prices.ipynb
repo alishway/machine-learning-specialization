{
 "cells": [
  {
   "cell_type": "code",
   "execution_count": 1,
   "metadata": {
    "collapsed": true,
    "scrolled": true
   },
   "outputs": [],
   "source": [
    "# Fire up graphlab create"
   ]
  },
  {
   "cell_type": "code",
   "execution_count": 2,
   "metadata": {
    "collapsed": true
   },
   "outputs": [],
   "source": [
    "import graphlab"
   ]
  },
  {
   "cell_type": "code",
   "execution_count": 3,
   "metadata": {
    "collapsed": true
   },
   "outputs": [],
   "source": [
    "# Load some data"
   ]
  },
  {
   "cell_type": "code",
   "execution_count": 4,
   "metadata": {
    "collapsed": false
   },
   "outputs": [
    {
     "name": "stderr",
     "output_type": "stream",
     "text": [
      "[INFO] This non-commercial license of GraphLab Create is assigned to kgrodzicki@gmail.comand will expire on October 14, 2016. For commercial licensing options, visit https://dato.com/buy/.\n",
      "\n",
      "[INFO] Start server at: ipc:///tmp/graphlab_server-38 - Server binary: /usr/local/lib/python2.7/dist-packages/graphlab/unity_server - Server log: /tmp/graphlab_server_1445373931.log\n",
      "[INFO] GraphLab Server Version: 1.6.1\n"
     ]
    }
   ],
   "source": [
    "sales = graphlab.SFrame('home_data.gl/')"
   ]
  },
  {
   "cell_type": "code",
   "execution_count": 5,
   "metadata": {
    "collapsed": false
   },
   "outputs": [
    {
     "data": {
      "text/html": [
       "<div style=\"max-height:1000px;max-width:1500px;overflow:auto;\"><table frame=\"box\" rules=\"cols\">\n",
       "    <tr>\n",
       "        <th style=\"padding-left: 1em; padding-right: 1em; text-align: center\">id</th>\n",
       "        <th style=\"padding-left: 1em; padding-right: 1em; text-align: center\">date</th>\n",
       "        <th style=\"padding-left: 1em; padding-right: 1em; text-align: center\">price</th>\n",
       "        <th style=\"padding-left: 1em; padding-right: 1em; text-align: center\">bedrooms</th>\n",
       "        <th style=\"padding-left: 1em; padding-right: 1em; text-align: center\">bathrooms</th>\n",
       "        <th style=\"padding-left: 1em; padding-right: 1em; text-align: center\">sqft_living</th>\n",
       "        <th style=\"padding-left: 1em; padding-right: 1em; text-align: center\">sqft_lot</th>\n",
       "        <th style=\"padding-left: 1em; padding-right: 1em; text-align: center\">floors</th>\n",
       "        <th style=\"padding-left: 1em; padding-right: 1em; text-align: center\">waterfront</th>\n",
       "    </tr>\n",
       "    <tr>\n",
       "        <td style=\"padding-left: 1em; padding-right: 1em; text-align: center; vertical-align: top\">7129300520</td>\n",
       "        <td style=\"padding-left: 1em; padding-right: 1em; text-align: center; vertical-align: top\">2014-10-13 00:00:00+00:00</td>\n",
       "        <td style=\"padding-left: 1em; padding-right: 1em; text-align: center; vertical-align: top\">221900</td>\n",
       "        <td style=\"padding-left: 1em; padding-right: 1em; text-align: center; vertical-align: top\">3</td>\n",
       "        <td style=\"padding-left: 1em; padding-right: 1em; text-align: center; vertical-align: top\">1</td>\n",
       "        <td style=\"padding-left: 1em; padding-right: 1em; text-align: center; vertical-align: top\">1180</td>\n",
       "        <td style=\"padding-left: 1em; padding-right: 1em; text-align: center; vertical-align: top\">5650</td>\n",
       "        <td style=\"padding-left: 1em; padding-right: 1em; text-align: center; vertical-align: top\">1</td>\n",
       "        <td style=\"padding-left: 1em; padding-right: 1em; text-align: center; vertical-align: top\">0</td>\n",
       "    </tr>\n",
       "    <tr>\n",
       "        <td style=\"padding-left: 1em; padding-right: 1em; text-align: center; vertical-align: top\">6414100192</td>\n",
       "        <td style=\"padding-left: 1em; padding-right: 1em; text-align: center; vertical-align: top\">2014-12-09 00:00:00+00:00</td>\n",
       "        <td style=\"padding-left: 1em; padding-right: 1em; text-align: center; vertical-align: top\">538000</td>\n",
       "        <td style=\"padding-left: 1em; padding-right: 1em; text-align: center; vertical-align: top\">3</td>\n",
       "        <td style=\"padding-left: 1em; padding-right: 1em; text-align: center; vertical-align: top\">2.25</td>\n",
       "        <td style=\"padding-left: 1em; padding-right: 1em; text-align: center; vertical-align: top\">2570</td>\n",
       "        <td style=\"padding-left: 1em; padding-right: 1em; text-align: center; vertical-align: top\">7242</td>\n",
       "        <td style=\"padding-left: 1em; padding-right: 1em; text-align: center; vertical-align: top\">2</td>\n",
       "        <td style=\"padding-left: 1em; padding-right: 1em; text-align: center; vertical-align: top\">0</td>\n",
       "    </tr>\n",
       "    <tr>\n",
       "        <td style=\"padding-left: 1em; padding-right: 1em; text-align: center; vertical-align: top\">5631500400</td>\n",
       "        <td style=\"padding-left: 1em; padding-right: 1em; text-align: center; vertical-align: top\">2015-02-25 00:00:00+00:00</td>\n",
       "        <td style=\"padding-left: 1em; padding-right: 1em; text-align: center; vertical-align: top\">180000</td>\n",
       "        <td style=\"padding-left: 1em; padding-right: 1em; text-align: center; vertical-align: top\">2</td>\n",
       "        <td style=\"padding-left: 1em; padding-right: 1em; text-align: center; vertical-align: top\">1</td>\n",
       "        <td style=\"padding-left: 1em; padding-right: 1em; text-align: center; vertical-align: top\">770</td>\n",
       "        <td style=\"padding-left: 1em; padding-right: 1em; text-align: center; vertical-align: top\">10000</td>\n",
       "        <td style=\"padding-left: 1em; padding-right: 1em; text-align: center; vertical-align: top\">1</td>\n",
       "        <td style=\"padding-left: 1em; padding-right: 1em; text-align: center; vertical-align: top\">0</td>\n",
       "    </tr>\n",
       "    <tr>\n",
       "        <td style=\"padding-left: 1em; padding-right: 1em; text-align: center; vertical-align: top\">2487200875</td>\n",
       "        <td style=\"padding-left: 1em; padding-right: 1em; text-align: center; vertical-align: top\">2014-12-09 00:00:00+00:00</td>\n",
       "        <td style=\"padding-left: 1em; padding-right: 1em; text-align: center; vertical-align: top\">604000</td>\n",
       "        <td style=\"padding-left: 1em; padding-right: 1em; text-align: center; vertical-align: top\">4</td>\n",
       "        <td style=\"padding-left: 1em; padding-right: 1em; text-align: center; vertical-align: top\">3</td>\n",
       "        <td style=\"padding-left: 1em; padding-right: 1em; text-align: center; vertical-align: top\">1960</td>\n",
       "        <td style=\"padding-left: 1em; padding-right: 1em; text-align: center; vertical-align: top\">5000</td>\n",
       "        <td style=\"padding-left: 1em; padding-right: 1em; text-align: center; vertical-align: top\">1</td>\n",
       "        <td style=\"padding-left: 1em; padding-right: 1em; text-align: center; vertical-align: top\">0</td>\n",
       "    </tr>\n",
       "    <tr>\n",
       "        <td style=\"padding-left: 1em; padding-right: 1em; text-align: center; vertical-align: top\">1954400510</td>\n",
       "        <td style=\"padding-left: 1em; padding-right: 1em; text-align: center; vertical-align: top\">2015-02-18 00:00:00+00:00</td>\n",
       "        <td style=\"padding-left: 1em; padding-right: 1em; text-align: center; vertical-align: top\">510000</td>\n",
       "        <td style=\"padding-left: 1em; padding-right: 1em; text-align: center; vertical-align: top\">3</td>\n",
       "        <td style=\"padding-left: 1em; padding-right: 1em; text-align: center; vertical-align: top\">2</td>\n",
       "        <td style=\"padding-left: 1em; padding-right: 1em; text-align: center; vertical-align: top\">1680</td>\n",
       "        <td style=\"padding-left: 1em; padding-right: 1em; text-align: center; vertical-align: top\">8080</td>\n",
       "        <td style=\"padding-left: 1em; padding-right: 1em; text-align: center; vertical-align: top\">1</td>\n",
       "        <td style=\"padding-left: 1em; padding-right: 1em; text-align: center; vertical-align: top\">0</td>\n",
       "    </tr>\n",
       "    <tr>\n",
       "        <td style=\"padding-left: 1em; padding-right: 1em; text-align: center; vertical-align: top\">7237550310</td>\n",
       "        <td style=\"padding-left: 1em; padding-right: 1em; text-align: center; vertical-align: top\">2014-05-12 00:00:00+00:00</td>\n",
       "        <td style=\"padding-left: 1em; padding-right: 1em; text-align: center; vertical-align: top\">1225000</td>\n",
       "        <td style=\"padding-left: 1em; padding-right: 1em; text-align: center; vertical-align: top\">4</td>\n",
       "        <td style=\"padding-left: 1em; padding-right: 1em; text-align: center; vertical-align: top\">4.5</td>\n",
       "        <td style=\"padding-left: 1em; padding-right: 1em; text-align: center; vertical-align: top\">5420</td>\n",
       "        <td style=\"padding-left: 1em; padding-right: 1em; text-align: center; vertical-align: top\">101930</td>\n",
       "        <td style=\"padding-left: 1em; padding-right: 1em; text-align: center; vertical-align: top\">1</td>\n",
       "        <td style=\"padding-left: 1em; padding-right: 1em; text-align: center; vertical-align: top\">0</td>\n",
       "    </tr>\n",
       "    <tr>\n",
       "        <td style=\"padding-left: 1em; padding-right: 1em; text-align: center; vertical-align: top\">1321400060</td>\n",
       "        <td style=\"padding-left: 1em; padding-right: 1em; text-align: center; vertical-align: top\">2014-06-27 00:00:00+00:00</td>\n",
       "        <td style=\"padding-left: 1em; padding-right: 1em; text-align: center; vertical-align: top\">257500</td>\n",
       "        <td style=\"padding-left: 1em; padding-right: 1em; text-align: center; vertical-align: top\">3</td>\n",
       "        <td style=\"padding-left: 1em; padding-right: 1em; text-align: center; vertical-align: top\">2.25</td>\n",
       "        <td style=\"padding-left: 1em; padding-right: 1em; text-align: center; vertical-align: top\">1715</td>\n",
       "        <td style=\"padding-left: 1em; padding-right: 1em; text-align: center; vertical-align: top\">6819</td>\n",
       "        <td style=\"padding-left: 1em; padding-right: 1em; text-align: center; vertical-align: top\">2</td>\n",
       "        <td style=\"padding-left: 1em; padding-right: 1em; text-align: center; vertical-align: top\">0</td>\n",
       "    </tr>\n",
       "    <tr>\n",
       "        <td style=\"padding-left: 1em; padding-right: 1em; text-align: center; vertical-align: top\">2008000270</td>\n",
       "        <td style=\"padding-left: 1em; padding-right: 1em; text-align: center; vertical-align: top\">2015-01-15 00:00:00+00:00</td>\n",
       "        <td style=\"padding-left: 1em; padding-right: 1em; text-align: center; vertical-align: top\">291850</td>\n",
       "        <td style=\"padding-left: 1em; padding-right: 1em; text-align: center; vertical-align: top\">3</td>\n",
       "        <td style=\"padding-left: 1em; padding-right: 1em; text-align: center; vertical-align: top\">1.5</td>\n",
       "        <td style=\"padding-left: 1em; padding-right: 1em; text-align: center; vertical-align: top\">1060</td>\n",
       "        <td style=\"padding-left: 1em; padding-right: 1em; text-align: center; vertical-align: top\">9711</td>\n",
       "        <td style=\"padding-left: 1em; padding-right: 1em; text-align: center; vertical-align: top\">1</td>\n",
       "        <td style=\"padding-left: 1em; padding-right: 1em; text-align: center; vertical-align: top\">0</td>\n",
       "    </tr>\n",
       "    <tr>\n",
       "        <td style=\"padding-left: 1em; padding-right: 1em; text-align: center; vertical-align: top\">2414600126</td>\n",
       "        <td style=\"padding-left: 1em; padding-right: 1em; text-align: center; vertical-align: top\">2015-04-15 00:00:00+00:00</td>\n",
       "        <td style=\"padding-left: 1em; padding-right: 1em; text-align: center; vertical-align: top\">229500</td>\n",
       "        <td style=\"padding-left: 1em; padding-right: 1em; text-align: center; vertical-align: top\">3</td>\n",
       "        <td style=\"padding-left: 1em; padding-right: 1em; text-align: center; vertical-align: top\">1</td>\n",
       "        <td style=\"padding-left: 1em; padding-right: 1em; text-align: center; vertical-align: top\">1780</td>\n",
       "        <td style=\"padding-left: 1em; padding-right: 1em; text-align: center; vertical-align: top\">7470</td>\n",
       "        <td style=\"padding-left: 1em; padding-right: 1em; text-align: center; vertical-align: top\">1</td>\n",
       "        <td style=\"padding-left: 1em; padding-right: 1em; text-align: center; vertical-align: top\">0</td>\n",
       "    </tr>\n",
       "    <tr>\n",
       "        <td style=\"padding-left: 1em; padding-right: 1em; text-align: center; vertical-align: top\">3793500160</td>\n",
       "        <td style=\"padding-left: 1em; padding-right: 1em; text-align: center; vertical-align: top\">2015-03-12 00:00:00+00:00</td>\n",
       "        <td style=\"padding-left: 1em; padding-right: 1em; text-align: center; vertical-align: top\">323000</td>\n",
       "        <td style=\"padding-left: 1em; padding-right: 1em; text-align: center; vertical-align: top\">3</td>\n",
       "        <td style=\"padding-left: 1em; padding-right: 1em; text-align: center; vertical-align: top\">2.5</td>\n",
       "        <td style=\"padding-left: 1em; padding-right: 1em; text-align: center; vertical-align: top\">1890</td>\n",
       "        <td style=\"padding-left: 1em; padding-right: 1em; text-align: center; vertical-align: top\">6560</td>\n",
       "        <td style=\"padding-left: 1em; padding-right: 1em; text-align: center; vertical-align: top\">2</td>\n",
       "        <td style=\"padding-left: 1em; padding-right: 1em; text-align: center; vertical-align: top\">0</td>\n",
       "    </tr>\n",
       "</table>\n",
       "<table frame=\"box\" rules=\"cols\">\n",
       "    <tr>\n",
       "        <th style=\"padding-left: 1em; padding-right: 1em; text-align: center\">view</th>\n",
       "        <th style=\"padding-left: 1em; padding-right: 1em; text-align: center\">condition</th>\n",
       "        <th style=\"padding-left: 1em; padding-right: 1em; text-align: center\">grade</th>\n",
       "        <th style=\"padding-left: 1em; padding-right: 1em; text-align: center\">sqft_above</th>\n",
       "        <th style=\"padding-left: 1em; padding-right: 1em; text-align: center\">sqft_basement</th>\n",
       "        <th style=\"padding-left: 1em; padding-right: 1em; text-align: center\">yr_built</th>\n",
       "        <th style=\"padding-left: 1em; padding-right: 1em; text-align: center\">yr_renovated</th>\n",
       "        <th style=\"padding-left: 1em; padding-right: 1em; text-align: center\">zipcode</th>\n",
       "        <th style=\"padding-left: 1em; padding-right: 1em; text-align: center\">lat</th>\n",
       "    </tr>\n",
       "    <tr>\n",
       "        <td style=\"padding-left: 1em; padding-right: 1em; text-align: center; vertical-align: top\">0</td>\n",
       "        <td style=\"padding-left: 1em; padding-right: 1em; text-align: center; vertical-align: top\">3</td>\n",
       "        <td style=\"padding-left: 1em; padding-right: 1em; text-align: center; vertical-align: top\">7</td>\n",
       "        <td style=\"padding-left: 1em; padding-right: 1em; text-align: center; vertical-align: top\">1180</td>\n",
       "        <td style=\"padding-left: 1em; padding-right: 1em; text-align: center; vertical-align: top\">0</td>\n",
       "        <td style=\"padding-left: 1em; padding-right: 1em; text-align: center; vertical-align: top\">1955</td>\n",
       "        <td style=\"padding-left: 1em; padding-right: 1em; text-align: center; vertical-align: top\">0</td>\n",
       "        <td style=\"padding-left: 1em; padding-right: 1em; text-align: center; vertical-align: top\">98178</td>\n",
       "        <td style=\"padding-left: 1em; padding-right: 1em; text-align: center; vertical-align: top\">47.51123398</td>\n",
       "    </tr>\n",
       "    <tr>\n",
       "        <td style=\"padding-left: 1em; padding-right: 1em; text-align: center; vertical-align: top\">0</td>\n",
       "        <td style=\"padding-left: 1em; padding-right: 1em; text-align: center; vertical-align: top\">3</td>\n",
       "        <td style=\"padding-left: 1em; padding-right: 1em; text-align: center; vertical-align: top\">7</td>\n",
       "        <td style=\"padding-left: 1em; padding-right: 1em; text-align: center; vertical-align: top\">2170</td>\n",
       "        <td style=\"padding-left: 1em; padding-right: 1em; text-align: center; vertical-align: top\">400</td>\n",
       "        <td style=\"padding-left: 1em; padding-right: 1em; text-align: center; vertical-align: top\">1951</td>\n",
       "        <td style=\"padding-left: 1em; padding-right: 1em; text-align: center; vertical-align: top\">1991</td>\n",
       "        <td style=\"padding-left: 1em; padding-right: 1em; text-align: center; vertical-align: top\">98125</td>\n",
       "        <td style=\"padding-left: 1em; padding-right: 1em; text-align: center; vertical-align: top\">47.72102274</td>\n",
       "    </tr>\n",
       "    <tr>\n",
       "        <td style=\"padding-left: 1em; padding-right: 1em; text-align: center; vertical-align: top\">0</td>\n",
       "        <td style=\"padding-left: 1em; padding-right: 1em; text-align: center; vertical-align: top\">3</td>\n",
       "        <td style=\"padding-left: 1em; padding-right: 1em; text-align: center; vertical-align: top\">6</td>\n",
       "        <td style=\"padding-left: 1em; padding-right: 1em; text-align: center; vertical-align: top\">770</td>\n",
       "        <td style=\"padding-left: 1em; padding-right: 1em; text-align: center; vertical-align: top\">0</td>\n",
       "        <td style=\"padding-left: 1em; padding-right: 1em; text-align: center; vertical-align: top\">1933</td>\n",
       "        <td style=\"padding-left: 1em; padding-right: 1em; text-align: center; vertical-align: top\">0</td>\n",
       "        <td style=\"padding-left: 1em; padding-right: 1em; text-align: center; vertical-align: top\">98028</td>\n",
       "        <td style=\"padding-left: 1em; padding-right: 1em; text-align: center; vertical-align: top\">47.73792661</td>\n",
       "    </tr>\n",
       "    <tr>\n",
       "        <td style=\"padding-left: 1em; padding-right: 1em; text-align: center; vertical-align: top\">0</td>\n",
       "        <td style=\"padding-left: 1em; padding-right: 1em; text-align: center; vertical-align: top\">5</td>\n",
       "        <td style=\"padding-left: 1em; padding-right: 1em; text-align: center; vertical-align: top\">7</td>\n",
       "        <td style=\"padding-left: 1em; padding-right: 1em; text-align: center; vertical-align: top\">1050</td>\n",
       "        <td style=\"padding-left: 1em; padding-right: 1em; text-align: center; vertical-align: top\">910</td>\n",
       "        <td style=\"padding-left: 1em; padding-right: 1em; text-align: center; vertical-align: top\">1965</td>\n",
       "        <td style=\"padding-left: 1em; padding-right: 1em; text-align: center; vertical-align: top\">0</td>\n",
       "        <td style=\"padding-left: 1em; padding-right: 1em; text-align: center; vertical-align: top\">98136</td>\n",
       "        <td style=\"padding-left: 1em; padding-right: 1em; text-align: center; vertical-align: top\">47.52082</td>\n",
       "    </tr>\n",
       "    <tr>\n",
       "        <td style=\"padding-left: 1em; padding-right: 1em; text-align: center; vertical-align: top\">0</td>\n",
       "        <td style=\"padding-left: 1em; padding-right: 1em; text-align: center; vertical-align: top\">3</td>\n",
       "        <td style=\"padding-left: 1em; padding-right: 1em; text-align: center; vertical-align: top\">8</td>\n",
       "        <td style=\"padding-left: 1em; padding-right: 1em; text-align: center; vertical-align: top\">1680</td>\n",
       "        <td style=\"padding-left: 1em; padding-right: 1em; text-align: center; vertical-align: top\">0</td>\n",
       "        <td style=\"padding-left: 1em; padding-right: 1em; text-align: center; vertical-align: top\">1987</td>\n",
       "        <td style=\"padding-left: 1em; padding-right: 1em; text-align: center; vertical-align: top\">0</td>\n",
       "        <td style=\"padding-left: 1em; padding-right: 1em; text-align: center; vertical-align: top\">98074</td>\n",
       "        <td style=\"padding-left: 1em; padding-right: 1em; text-align: center; vertical-align: top\">47.61681228</td>\n",
       "    </tr>\n",
       "    <tr>\n",
       "        <td style=\"padding-left: 1em; padding-right: 1em; text-align: center; vertical-align: top\">0</td>\n",
       "        <td style=\"padding-left: 1em; padding-right: 1em; text-align: center; vertical-align: top\">3</td>\n",
       "        <td style=\"padding-left: 1em; padding-right: 1em; text-align: center; vertical-align: top\">11</td>\n",
       "        <td style=\"padding-left: 1em; padding-right: 1em; text-align: center; vertical-align: top\">3890</td>\n",
       "        <td style=\"padding-left: 1em; padding-right: 1em; text-align: center; vertical-align: top\">1530</td>\n",
       "        <td style=\"padding-left: 1em; padding-right: 1em; text-align: center; vertical-align: top\">2001</td>\n",
       "        <td style=\"padding-left: 1em; padding-right: 1em; text-align: center; vertical-align: top\">0</td>\n",
       "        <td style=\"padding-left: 1em; padding-right: 1em; text-align: center; vertical-align: top\">98053</td>\n",
       "        <td style=\"padding-left: 1em; padding-right: 1em; text-align: center; vertical-align: top\">47.65611835</td>\n",
       "    </tr>\n",
       "    <tr>\n",
       "        <td style=\"padding-left: 1em; padding-right: 1em; text-align: center; vertical-align: top\">0</td>\n",
       "        <td style=\"padding-left: 1em; padding-right: 1em; text-align: center; vertical-align: top\">3</td>\n",
       "        <td style=\"padding-left: 1em; padding-right: 1em; text-align: center; vertical-align: top\">7</td>\n",
       "        <td style=\"padding-left: 1em; padding-right: 1em; text-align: center; vertical-align: top\">1715</td>\n",
       "        <td style=\"padding-left: 1em; padding-right: 1em; text-align: center; vertical-align: top\">0</td>\n",
       "        <td style=\"padding-left: 1em; padding-right: 1em; text-align: center; vertical-align: top\">1995</td>\n",
       "        <td style=\"padding-left: 1em; padding-right: 1em; text-align: center; vertical-align: top\">0</td>\n",
       "        <td style=\"padding-left: 1em; padding-right: 1em; text-align: center; vertical-align: top\">98003</td>\n",
       "        <td style=\"padding-left: 1em; padding-right: 1em; text-align: center; vertical-align: top\">47.30972002</td>\n",
       "    </tr>\n",
       "    <tr>\n",
       "        <td style=\"padding-left: 1em; padding-right: 1em; text-align: center; vertical-align: top\">0</td>\n",
       "        <td style=\"padding-left: 1em; padding-right: 1em; text-align: center; vertical-align: top\">3</td>\n",
       "        <td style=\"padding-left: 1em; padding-right: 1em; text-align: center; vertical-align: top\">7</td>\n",
       "        <td style=\"padding-left: 1em; padding-right: 1em; text-align: center; vertical-align: top\">1060</td>\n",
       "        <td style=\"padding-left: 1em; padding-right: 1em; text-align: center; vertical-align: top\">0</td>\n",
       "        <td style=\"padding-left: 1em; padding-right: 1em; text-align: center; vertical-align: top\">1963</td>\n",
       "        <td style=\"padding-left: 1em; padding-right: 1em; text-align: center; vertical-align: top\">0</td>\n",
       "        <td style=\"padding-left: 1em; padding-right: 1em; text-align: center; vertical-align: top\">98198</td>\n",
       "        <td style=\"padding-left: 1em; padding-right: 1em; text-align: center; vertical-align: top\">47.40949984</td>\n",
       "    </tr>\n",
       "    <tr>\n",
       "        <td style=\"padding-left: 1em; padding-right: 1em; text-align: center; vertical-align: top\">0</td>\n",
       "        <td style=\"padding-left: 1em; padding-right: 1em; text-align: center; vertical-align: top\">3</td>\n",
       "        <td style=\"padding-left: 1em; padding-right: 1em; text-align: center; vertical-align: top\">7</td>\n",
       "        <td style=\"padding-left: 1em; padding-right: 1em; text-align: center; vertical-align: top\">1050</td>\n",
       "        <td style=\"padding-left: 1em; padding-right: 1em; text-align: center; vertical-align: top\">730</td>\n",
       "        <td style=\"padding-left: 1em; padding-right: 1em; text-align: center; vertical-align: top\">1960</td>\n",
       "        <td style=\"padding-left: 1em; padding-right: 1em; text-align: center; vertical-align: top\">0</td>\n",
       "        <td style=\"padding-left: 1em; padding-right: 1em; text-align: center; vertical-align: top\">98146</td>\n",
       "        <td style=\"padding-left: 1em; padding-right: 1em; text-align: center; vertical-align: top\">47.51229381</td>\n",
       "    </tr>\n",
       "    <tr>\n",
       "        <td style=\"padding-left: 1em; padding-right: 1em; text-align: center; vertical-align: top\">0</td>\n",
       "        <td style=\"padding-left: 1em; padding-right: 1em; text-align: center; vertical-align: top\">3</td>\n",
       "        <td style=\"padding-left: 1em; padding-right: 1em; text-align: center; vertical-align: top\">7</td>\n",
       "        <td style=\"padding-left: 1em; padding-right: 1em; text-align: center; vertical-align: top\">1890</td>\n",
       "        <td style=\"padding-left: 1em; padding-right: 1em; text-align: center; vertical-align: top\">0</td>\n",
       "        <td style=\"padding-left: 1em; padding-right: 1em; text-align: center; vertical-align: top\">2003</td>\n",
       "        <td style=\"padding-left: 1em; padding-right: 1em; text-align: center; vertical-align: top\">0</td>\n",
       "        <td style=\"padding-left: 1em; padding-right: 1em; text-align: center; vertical-align: top\">98038</td>\n",
       "        <td style=\"padding-left: 1em; padding-right: 1em; text-align: center; vertical-align: top\">47.36840673</td>\n",
       "    </tr>\n",
       "</table>\n",
       "<table frame=\"box\" rules=\"cols\">\n",
       "    <tr>\n",
       "        <th style=\"padding-left: 1em; padding-right: 1em; text-align: center\">long</th>\n",
       "        <th style=\"padding-left: 1em; padding-right: 1em; text-align: center\">sqft_living15</th>\n",
       "        <th style=\"padding-left: 1em; padding-right: 1em; text-align: center\">sqft_lot15</th>\n",
       "    </tr>\n",
       "    <tr>\n",
       "        <td style=\"padding-left: 1em; padding-right: 1em; text-align: center; vertical-align: top\">-122.25677536</td>\n",
       "        <td style=\"padding-left: 1em; padding-right: 1em; text-align: center; vertical-align: top\">1340.0</td>\n",
       "        <td style=\"padding-left: 1em; padding-right: 1em; text-align: center; vertical-align: top\">5650.0</td>\n",
       "    </tr>\n",
       "    <tr>\n",
       "        <td style=\"padding-left: 1em; padding-right: 1em; text-align: center; vertical-align: top\">-122.3188624</td>\n",
       "        <td style=\"padding-left: 1em; padding-right: 1em; text-align: center; vertical-align: top\">1690.0</td>\n",
       "        <td style=\"padding-left: 1em; padding-right: 1em; text-align: center; vertical-align: top\">7639.0</td>\n",
       "    </tr>\n",
       "    <tr>\n",
       "        <td style=\"padding-left: 1em; padding-right: 1em; text-align: center; vertical-align: top\">-122.23319601</td>\n",
       "        <td style=\"padding-left: 1em; padding-right: 1em; text-align: center; vertical-align: top\">2720.0</td>\n",
       "        <td style=\"padding-left: 1em; padding-right: 1em; text-align: center; vertical-align: top\">8062.0</td>\n",
       "    </tr>\n",
       "    <tr>\n",
       "        <td style=\"padding-left: 1em; padding-right: 1em; text-align: center; vertical-align: top\">-122.39318505</td>\n",
       "        <td style=\"padding-left: 1em; padding-right: 1em; text-align: center; vertical-align: top\">1360.0</td>\n",
       "        <td style=\"padding-left: 1em; padding-right: 1em; text-align: center; vertical-align: top\">5000.0</td>\n",
       "    </tr>\n",
       "    <tr>\n",
       "        <td style=\"padding-left: 1em; padding-right: 1em; text-align: center; vertical-align: top\">-122.04490059</td>\n",
       "        <td style=\"padding-left: 1em; padding-right: 1em; text-align: center; vertical-align: top\">1800.0</td>\n",
       "        <td style=\"padding-left: 1em; padding-right: 1em; text-align: center; vertical-align: top\">7503.0</td>\n",
       "    </tr>\n",
       "    <tr>\n",
       "        <td style=\"padding-left: 1em; padding-right: 1em; text-align: center; vertical-align: top\">-122.00528655</td>\n",
       "        <td style=\"padding-left: 1em; padding-right: 1em; text-align: center; vertical-align: top\">4760.0</td>\n",
       "        <td style=\"padding-left: 1em; padding-right: 1em; text-align: center; vertical-align: top\">101930.0</td>\n",
       "    </tr>\n",
       "    <tr>\n",
       "        <td style=\"padding-left: 1em; padding-right: 1em; text-align: center; vertical-align: top\">-122.32704857</td>\n",
       "        <td style=\"padding-left: 1em; padding-right: 1em; text-align: center; vertical-align: top\">2238.0</td>\n",
       "        <td style=\"padding-left: 1em; padding-right: 1em; text-align: center; vertical-align: top\">6819.0</td>\n",
       "    </tr>\n",
       "    <tr>\n",
       "        <td style=\"padding-left: 1em; padding-right: 1em; text-align: center; vertical-align: top\">-122.31457273</td>\n",
       "        <td style=\"padding-left: 1em; padding-right: 1em; text-align: center; vertical-align: top\">1650.0</td>\n",
       "        <td style=\"padding-left: 1em; padding-right: 1em; text-align: center; vertical-align: top\">9711.0</td>\n",
       "    </tr>\n",
       "    <tr>\n",
       "        <td style=\"padding-left: 1em; padding-right: 1em; text-align: center; vertical-align: top\">-122.33659507</td>\n",
       "        <td style=\"padding-left: 1em; padding-right: 1em; text-align: center; vertical-align: top\">1780.0</td>\n",
       "        <td style=\"padding-left: 1em; padding-right: 1em; text-align: center; vertical-align: top\">8113.0</td>\n",
       "    </tr>\n",
       "    <tr>\n",
       "        <td style=\"padding-left: 1em; padding-right: 1em; text-align: center; vertical-align: top\">-122.0308176</td>\n",
       "        <td style=\"padding-left: 1em; padding-right: 1em; text-align: center; vertical-align: top\">2390.0</td>\n",
       "        <td style=\"padding-left: 1em; padding-right: 1em; text-align: center; vertical-align: top\">7570.0</td>\n",
       "    </tr>\n",
       "</table>\n",
       "[21613 rows x 21 columns]<br/>Note: Only the head of the SFrame is printed.<br/>You can use print_rows(num_rows=m, num_columns=n) to print more rows and columns.\n",
       "</div>"
      ],
      "text/plain": [
       "Columns:\n",
       "\tid\tstr\n",
       "\tdate\tdatetime\n",
       "\tprice\tint\n",
       "\tbedrooms\tstr\n",
       "\tbathrooms\tstr\n",
       "\tsqft_living\tint\n",
       "\tsqft_lot\tint\n",
       "\tfloors\tstr\n",
       "\twaterfront\tint\n",
       "\tview\tint\n",
       "\tcondition\tint\n",
       "\tgrade\tint\n",
       "\tsqft_above\tint\n",
       "\tsqft_basement\tint\n",
       "\tyr_built\tint\n",
       "\tyr_renovated\tint\n",
       "\tzipcode\tstr\n",
       "\tlat\tfloat\n",
       "\tlong\tfloat\n",
       "\tsqft_living15\tfloat\n",
       "\tsqft_lot15\tfloat\n",
       "\n",
       "Rows: 21613\n",
       "\n",
       "Data:\n",
       "+------------+---------------------------+---------+----------+-----------+-------------+\n",
       "|     id     |            date           |  price  | bedrooms | bathrooms | sqft_living |\n",
       "+------------+---------------------------+---------+----------+-----------+-------------+\n",
       "| 7129300520 | 2014-10-13 00:00:00+00:00 |  221900 |    3     |     1     |     1180    |\n",
       "| 6414100192 | 2014-12-09 00:00:00+00:00 |  538000 |    3     |    2.25   |     2570    |\n",
       "| 5631500400 | 2015-02-25 00:00:00+00:00 |  180000 |    2     |     1     |     770     |\n",
       "| 2487200875 | 2014-12-09 00:00:00+00:00 |  604000 |    4     |     3     |     1960    |\n",
       "| 1954400510 | 2015-02-18 00:00:00+00:00 |  510000 |    3     |     2     |     1680    |\n",
       "| 7237550310 | 2014-05-12 00:00:00+00:00 | 1225000 |    4     |    4.5    |     5420    |\n",
       "| 1321400060 | 2014-06-27 00:00:00+00:00 |  257500 |    3     |    2.25   |     1715    |\n",
       "| 2008000270 | 2015-01-15 00:00:00+00:00 |  291850 |    3     |    1.5    |     1060    |\n",
       "| 2414600126 | 2015-04-15 00:00:00+00:00 |  229500 |    3     |     1     |     1780    |\n",
       "| 3793500160 | 2015-03-12 00:00:00+00:00 |  323000 |    3     |    2.5    |     1890    |\n",
       "+------------+---------------------------+---------+----------+-----------+-------------+\n",
       "+----------+--------+------------+------+-----------+-------+------------+---------------+\n",
       "| sqft_lot | floors | waterfront | view | condition | grade | sqft_above | sqft_basement |\n",
       "+----------+--------+------------+------+-----------+-------+------------+---------------+\n",
       "|   5650   |   1    |     0      |  0   |     3     |   7   |    1180    |       0       |\n",
       "|   7242   |   2    |     0      |  0   |     3     |   7   |    2170    |      400      |\n",
       "|  10000   |   1    |     0      |  0   |     3     |   6   |    770     |       0       |\n",
       "|   5000   |   1    |     0      |  0   |     5     |   7   |    1050    |      910      |\n",
       "|   8080   |   1    |     0      |  0   |     3     |   8   |    1680    |       0       |\n",
       "|  101930  |   1    |     0      |  0   |     3     |   11  |    3890    |      1530     |\n",
       "|   6819   |   2    |     0      |  0   |     3     |   7   |    1715    |       0       |\n",
       "|   9711   |   1    |     0      |  0   |     3     |   7   |    1060    |       0       |\n",
       "|   7470   |   1    |     0      |  0   |     3     |   7   |    1050    |      730      |\n",
       "|   6560   |   2    |     0      |  0   |     3     |   7   |    1890    |       0       |\n",
       "+----------+--------+------------+------+-----------+-------+------------+---------------+\n",
       "+----------+--------------+---------+-------------+---------------+---------------+-----+\n",
       "| yr_built | yr_renovated | zipcode |     lat     |      long     | sqft_living15 | ... |\n",
       "+----------+--------------+---------+-------------+---------------+---------------+-----+\n",
       "|   1955   |      0       |  98178  | 47.51123398 | -122.25677536 |     1340.0    | ... |\n",
       "|   1951   |     1991     |  98125  | 47.72102274 |  -122.3188624 |     1690.0    | ... |\n",
       "|   1933   |      0       |  98028  | 47.73792661 | -122.23319601 |     2720.0    | ... |\n",
       "|   1965   |      0       |  98136  |   47.52082  | -122.39318505 |     1360.0    | ... |\n",
       "|   1987   |      0       |  98074  | 47.61681228 | -122.04490059 |     1800.0    | ... |\n",
       "|   2001   |      0       |  98053  | 47.65611835 | -122.00528655 |     4760.0    | ... |\n",
       "|   1995   |      0       |  98003  | 47.30972002 | -122.32704857 |     2238.0    | ... |\n",
       "|   1963   |      0       |  98198  | 47.40949984 | -122.31457273 |     1650.0    | ... |\n",
       "|   1960   |      0       |  98146  | 47.51229381 | -122.33659507 |     1780.0    | ... |\n",
       "|   2003   |      0       |  98038  | 47.36840673 |  -122.0308176 |     2390.0    | ... |\n",
       "+----------+--------------+---------+-------------+---------------+---------------+-----+\n",
       "[21613 rows x 21 columns]\n",
       "Note: Only the head of the SFrame is printed.\n",
       "You can use print_rows(num_rows=m, num_columns=n) to print more rows and columns."
      ]
     },
     "execution_count": 5,
     "metadata": {},
     "output_type": "execute_result"
    }
   ],
   "source": [
    "sales"
   ]
  },
  {
   "cell_type": "code",
   "execution_count": 6,
   "metadata": {
    "collapsed": true
   },
   "outputs": [],
   "source": [
    "# Exploring the data for housing"
   ]
  },
  {
   "cell_type": "code",
   "execution_count": 7,
   "metadata": {
    "collapsed": false
   },
   "outputs": [
    {
     "data": {
      "application/javascript": [
       "$(\"head\").append($(\"<link/>\").attr({\n",
       "  rel:  \"stylesheet\",\n",
       "  type: \"text/css\",\n",
       "  href: \"//cdnjs.cloudflare.com/ajax/libs/font-awesome/4.1.0/css/font-awesome.min.css\"\n",
       "}));\n",
       "$(\"head\").append($(\"<link/>\").attr({\n",
       "  rel:  \"stylesheet\",\n",
       "  type: \"text/css\",\n",
       "  href: \"//dato.com/files/canvas/1.6.1/css/canvas.css\"\n",
       "}));\n",
       "\n",
       "            (function(){\n",
       "\n",
       "                var e = null;\n",
       "                if (typeof element == 'undefined') {\n",
       "                    var scripts = document.getElementsByTagName('script');\n",
       "                    var thisScriptTag = scripts[scripts.length-1];\n",
       "                    var parentDiv = thisScriptTag.parentNode;\n",
       "                    e = document.createElement('div');\n",
       "                    parentDiv.appendChild(e);\n",
       "                } else {\n",
       "                    e = element[0];\n",
       "                }\n",
       "\n",
       "                if (typeof requirejs !== 'undefined') {\n",
       "                    // disable load timeout; ipython_app.js is large and can take a while to load.\n",
       "                    requirejs.config({waitSeconds: 0});\n",
       "                }\n",
       "\n",
       "                require(['//dato.com/files/canvas/1.6.1/js/ipython_app.js'], function(IPythonApp){\n",
       "                    var app = new IPythonApp();\n",
       "                    app.attachView('sframe','Plots', {\"selected_variable\": {\"name\": [\"sales\"], \"descriptives\": {\"rows\": 21613, \"columns\": 21}, \"view_component\": \"Plots\", \"view_file\": \"sframe\", \"view_params\": {\"y\": \"price\", \"x\": \"sqft_living\", \"columns\": [\"id\", \"date\", \"price\", \"bedrooms\", \"bathrooms\", \"sqft_living\", \"sqft_lot\", \"floors\", \"waterfront\", \"view\", \"condition\", \"grade\", \"sqft_above\", \"sqft_basement\", \"yr_built\", \"yr_renovated\", \"zipcode\", \"lat\", \"long\", \"sqft_living15\", \"sqft_lot15\"], \"view\": \"Scatter Plot\"}, \"view_components\": [\"Summary\", \"Table\", \"Bar Chart\", \"BoxWhisker Plot\", \"Line Chart\", \"Scatter Plot\", \"Heat Map\", \"Plots\"], \"type\": \"SFrame\", \"columns\": [{\"dtype\": \"str\", \"name\": \"id\"}, {\"dtype\": \"datetime\", \"name\": \"date\"}, {\"dtype\": \"int\", \"name\": \"price\"}, {\"dtype\": \"str\", \"name\": \"bedrooms\"}, {\"dtype\": \"str\", \"name\": \"bathrooms\"}, {\"dtype\": \"int\", \"name\": \"sqft_living\"}, {\"dtype\": \"int\", \"name\": \"sqft_lot\"}, {\"dtype\": \"str\", \"name\": \"floors\"}, {\"dtype\": \"int\", \"name\": \"waterfront\"}, {\"dtype\": \"int\", \"name\": \"view\"}, {\"dtype\": \"int\", \"name\": \"condition\"}, {\"dtype\": \"int\", \"name\": \"grade\"}, {\"dtype\": \"int\", \"name\": \"sqft_above\"}, {\"dtype\": \"int\", \"name\": \"sqft_basement\"}, {\"dtype\": \"int\", \"name\": \"yr_built\"}, {\"dtype\": \"int\", \"name\": \"yr_renovated\"}, {\"dtype\": \"str\", \"name\": \"zipcode\"}, {\"dtype\": \"float\", \"name\": \"lat\"}, {\"dtype\": \"float\", \"name\": \"long\"}, {\"dtype\": \"float\", \"name\": \"sqft_living15\"}, {\"dtype\": \"float\", \"name\": \"sqft_lot15\"}], \"column_identifiers\": [\"bathrooms\", \"sqft_living15\", \"sqft_above\", \"grade\", \"yr_built\", \"price\", \"bedrooms\", \"zipcode\", \"long\", \"id\", \"sqft_lot15\", \"sqft_living\", \"floors\", \"sqft_lot\", \"date\", \"waterfront\", \"sqft_basement\", \"yr_renovated\", \"lat\", \"condition\", \"view\"]}, \"complete\": 1, \"ipython\": true, \"progress\": 1.0, \"data\": [[1540, 485000], [2840, 560000], [3540, 2200000], [1950, 785000], [1430, 345000], [1830, 269800], [1430, 350000], [1200, 168000], [940, 163500], [1860, 397500], [1010, 501000], [1980, 415000], [2100, 375000], [520, 82500], [1930, 367500], [1090, 577000], [2540, 660000], [2030, 389000], [2370, 577000], [2540, 374950], [1410, 399900], [3220, 590000], [1540, 539000], [1960, 395000], [3030, 465000], [1820, 277500], [4280, 2050000], [1790, 530000], [2830, 705000], [2570, 719000], [2630, 567000], [1020, 489000], [2330, 344950], [3180, 775000], [3610, 603000], [2110, 1031000], [2770, 749950], [2490, 654300], [2400, 475000], [1410, 267800], [1700, 334950], [1720, 575000], [2180, 415000], [1350, 626000], [1150, 335000], [1270, 599380], [1560, 399950], [3040, 1735000], [1350, 366000], [2020, 556000], [2890, 518000], [910, 244000], [1160, 315000], [1580, 575000], [2250, 670000], [1830, 440000], [1840, 433000], [3320, 1695000], [3470, 1300000], [5850, 1700000], [2290, 500000], [1600, 383900], [3720, 500000], [1260, 255000], [2290, 530000], [4160, 1110000], [2430, 255000], [1770, 596500], [1400, 210000], [2540, 627500], [2160, 355000], [1430, 552500], [2220, 800000], [2010, 427500], [1350, 335000], [1210, 457500], [4270, 1356925], [2740, 660000], [1080, 115000], [2300, 592000], [2080, 695000], [1400, 276500], [1480, 459000], [2440, 875000], [3110, 588000], [2790, 723000], [1980, 496752], [1320, 339950], [1820, 475000], [3040, 562000], [1980, 243500], [3740, 915557], [3080, 440000], [1040, 420000], [1427, 260000], [2950, 992000], [1490, 260250], [3030, 455000], [1900, 557500], [760, 162500], [1330, 236000], [1120, 380000], [3230, 950000], [2370, 870000], [1690, 295000], [2340, 375000], [1360, 352500], [1400, 325000], [1810, 625000], [2030, 225000], [1440, 239950], [2980, 949000], [1640, 295000], [1070, 147000], [1370, 305000], [3176, 819000], [1270, 235000], [1330, 440000], [2690, 530000], [1560, 430000], [1450, 306000], [2060, 343888], [1210, 364000], [1590, 259000], [1260, 342000], [2750, 1450000], [2100, 445000], [2710, 1200000], [2320, 822500], [670, 183000], [1730, 243400], [1920, 433000], [2540, 760250], [1030, 455000], [1470, 381000], [3160, 1250000], [2760, 369950], [1070, 249000], [2300, 395000], [2100, 211000], [2430, 310000], [2310, 450000], [990, 490000], [1960, 330000], [890, 299950], [1390, 657100], [2550, 890000], [1700, 262000], [2310, 815000], [2890, 550000], [1230, 375000], [2000, 423500], [2190, 491500], [5400, 1210000], [770, 290000], [2181, 340000], [2320, 299000], [2050, 465000], [2630, 445000], [1340, 275000], [1560, 335000], [2350, 649950], [2930, 650880], [2650, 549950], [1430, 800000], [2500, 635000], [2000, 513000], [2510, 605000], [1230, 464000], [1720, 580000], [1800, 442500], [1170, 370000], [1000, 311300], [1580, 672500], [2330, 595000], [1630, 490000], [2520, 750000], [2570, 655000], [1210, 205000], [2060, 815241], [2440, 510000], [2410, 560000], [1220, 240000], [2300, 312891], [3130, 835000], [2160, 895000], [1140, 160000], [1850, 975000], [1110, 532000], [1340, 376000], [1770, 415000], [940, 249950], [2600, 600000], [1880, 380000], [1120, 750000], [2160, 650000], [1870, 490000], [2300, 635000], [1620, 365000], [2470, 405000], [2230, 736500], [2940, 1712500], [2420, 380000], [2620, 650000], [910, 274250], [830, 327500], [1980, 335000], [1410, 530000], [4200, 1335000], [2230, 337000], [2130, 534950], [3960, 2500000], [2780, 1140000], [1900, 450000], [3860, 1051000], [3260, 800000], [5550, 3710000], [1590, 480000], [3900, 1072000], [2080, 418000], [2790, 340000], [1320, 255000], [1880, 725000], [3010, 724950], [1040, 440000], [2340, 396000], [900, 375000], [1720, 264950], [1610, 535610], [1240, 390000], [4750, 2175000], [2710, 710000], [4580, 2000000], [2350, 400000], [1520, 362500], [1790, 297000], [1820, 504500], [980, 334900], [2630, 852500], [4620, 1459000], [2240, 313500], [1340, 206135], [1730, 446000], [1500, 215000], [4690, 600000], [3040, 431000], [1300, 562000], [2090, 494000], [1640, 527000], [2180, 734000], [1070, 319950], [1440, 350000], [1510, 415000], [2200, 585000], [2430, 550000], [1790, 225000], [2460, 240000], [1170, 581000], [1740, 827235], [2320, 364808], [2950, 610000], [2760, 336000], [800, 402500], [1890, 805000], [2320, 630000], [2190, 411800], [1650, 251000], [1180, 360000], [1400, 415250], [2578, 400950], [1920, 719521], [1920, 230000], [2910, 515000], [1840, 350000], [1080, 331000], [1640, 311000], [1640, 218000], [3040, 815000], [1020, 200000], [3560, 1500000], [1650, 378000], [1660, 209950], [2260, 350000], [1680, 427000], [1490, 255000], [1130, 272000], [2150, 626000], [2720, 739000], [2460, 425000], [1720, 449000], [3710, 641000], [2690, 760000], [2620, 635000], [2040, 480000], [1640, 505000], [780, 315000], [3070, 1225000], [3820, 1215000], [2640, 850000], [2510, 267345], [2640, 365000], [1690, 464550], [2840, 580000], [2320, 675000], [2780, 582000], [1810, 268643], [1800, 550000], [2050, 455000], [1010, 550700], [1840, 262000], [2440, 1325000], [1620, 484000], [2660, 525000], [1880, 530200], [740, 213800], [1320, 206000], [3090, 615000], [2885, 605000], [1310, 450000], [1520, 230000], [600, 110000], [4180, 1040892], [1410, 263000], [1510, 240000], [1800, 382000], [1450, 465000], [2540, 735000], [4340, 1187500], [1820, 705000], [950, 550000], [2030, 515000], [2450, 939000], [2550, 490000], [1270, 348000], [2670, 675000], [2520, 650000], [1560, 236000], [1510, 791500], [3030, 799950], [2750, 795000], [3010, 401000], [1530, 284000], [1020, 231750], [3310, 803100], [1320, 201500], [1380, 285000], [1000, 239900], [2840, 585000], [1790, 437500], [1880, 440000], [1670, 252000], [1400, 217500], [800, 435000], [2190, 925000], [1980, 759000], [1460, 395000], [1260, 485000], [1200, 226000], [1460, 445000], [1480, 402500], [2120, 319990], [6200, 3300000], [1020, 290000], [2040, 812000], [3040, 795000], [3640, 913000], [2530, 435000], [780, 370000], [1320, 575000], [1290, 265000], [910, 235000], [2060, 890000], [2180, 530000], [3450, 380000], [1410, 271920], [1460, 499000], [2580, 374000], [2660, 768000], [2990, 698000], [1290, 500000], [520, 262000], [1610, 269950], [2020, 677500], [2870, 540000], [4800, 1350000], [1820, 680000], [1170, 400000], [1650, 252350], [1820, 369000], [1584, 261000], [1430, 350000], [1720, 323000], [1980, 760000], [1040, 325000], [870, 177000], [2340, 569500], [700, 400000], [1670, 415900], [1660, 425000], [2060, 460000], [1710, 557000], [2020, 400000], [1710, 282900], [1700, 511718], [4550, 1050000], [3030, 525000], [2130, 620000], [1860, 265000], [2760, 500000], [2340, 668750], [1960, 305000], [2070, 470000], [2240, 630000], [3090, 751000], [1160, 190000], [2910, 570000], [1010, 199950], [1570, 330000], [6840, 3278000], [2340, 476000], [950, 482000], [2700, 669000], [3520, 760000], [1530, 269000], [2500, 1142000], [1850, 277000], [1950, 315000], [1140, 455000], [2650, 415000], [1890, 320000], [1420, 510000], [1500, 405000], [1380, 185000], [1240, 675000], [5710, 930000], [1480, 235000], [2880, 845000], [1810, 270000], [990, 250000], [1510, 275000], [1490, 475000], [2300, 435000], [1840, 430000], [2313, 370000], [1770, 353500], [2940, 640000], [1560, 239950], [3070, 731000], [1320, 510000], [1720, 500000], [1710, 415000], [2060, 610000], [3320, 805000], [2500, 575000], [1040, 580000], [1640, 300000], [3090, 595000], [1480, 331000], [1640, 414250], [4260, 994000], [1920, 490000], [2160, 590000], [1510, 230000], [1150, 425000], [1840, 457500], [1435, 390000], [2180, 568500], [3410, 500000], [2680, 599950], [1995, 266000], [520, 275000], [2100, 303000], [1620, 842000], [710, 362362], [1010, 387000], [2980, 842500], [2920, 625000], [1360, 250000], [1630, 557000], [2090, 491950], [1400, 258900], [2620, 950000], [1210, 375000], [2460, 485000], [3730, 690000], [2240, 600000], [1920, 510000], [2290, 572500], [2810, 699900], [1390, 175003], [840, 209000], [1310, 235000], [1820, 425000], [2870, 665900], [1830, 470000], [1630, 375000], [3320, 950000], [3060, 775000], [1020, 245000], [2570, 254500], [1660, 290000], [2790, 535365], [1330, 386000], [720, 205000], [1300, 480000], [1660, 605000], [2560, 385000], [1170, 119500], [2780, 563500], [1250, 150000], [960, 349810], [1650, 400000], [940, 392000], [980, 90000], [1710, 340000], [1700, 445000], [2220, 555000], [1550, 533000], [680, 510000], [2170, 695000], [3440, 455000], [1860, 330000], [1070, 505000], [1550, 605000], [1460, 544000], [1278, 358000], [2090, 693000], [3810, 1130000], [2440, 730000], [1260, 120000], [1110, 345000], [1560, 544300], [2350, 277554], [3440, 616000], [3270, 600000], [2380, 565000], [2920, 713500], [4010, 1511250], [2020, 415000], [1450, 265500], [2050, 290000], [2440, 769000], [3680, 770000], [1090, 335000], [2210, 412000], [1270, 435000], [2330, 390000], [1460, 260000], [3000, 705000], [2910, 410000], [1760, 215000], [1600, 690000], [980, 550000], [1480, 440000], [1860, 215000], [4610, 1648000], [2550, 850000], [1620, 350000], [1088, 238000], [2620, 535000], [2630, 610000], [1400, 315000], [2630, 270000], [1330, 482500], [1050, 250000], [1290, 225000], [1580, 575000], [2140, 564000], [1180, 610000], [1840, 650000], [1690, 285900], [2350, 464950], [1440, 253500], [1520, 499950], [1570, 447450], [3120, 419950], [2340, 550000], [1690, 371000], [4310, 1735000], [2233, 317500], [1808, 270000], [2380, 855000], [1740, 173000], [3350, 635000], [1320, 535000], [1990, 700000], [1820, 318400], [1850, 352000], [1030, 252500], [1850, 205000], [1140, 309000], [800, 350000], [4930, 835000], [2650, 350000], [760, 265000], [4180, 1886700], [1940, 324000], [2620, 450000], [2920, 1650000], [1560, 515000], [1770, 381000], [1790, 432100], [2196, 333500], [1290, 300000], [1350, 410000], [1300, 250000], [1130, 227000], [2810, 450000], [2590, 674750], [2150, 560000], [1220, 465000], [1390, 280000], [2170, 443500], [4340, 2945000], [2050, 623000], [1920, 329000], [1650, 402500], [2000, 677000], [2450, 729000], [1610, 320000], [1230, 195000], [1660, 380000], [2550, 465000], [1170, 235000], [1820, 430000], [1840, 645000], [1660, 559950], [1310, 510000], [1650, 599000], [3320, 679990], [1970, 352500], [3420, 1350000], [1690, 390000], [2980, 1058800], [1030, 469000], [1830, 284000], [2800, 920000], [1760, 527950], [2370, 1034500], [3000, 1120000], [1580, 465000], [750, 258000], [5150, 2250000], [3020, 808100], [1500, 395000], [1520, 365000], [2660, 1230000], [1000, 505000], [2830, 627250], [3300, 765000], [2846, 482000], [1880, 300000], [3500, 797000], [2150, 597500], [1920, 542500], [1830, 335000], [3520, 1500000], [3070, 575000], [1140, 450000], [1800, 338800], [1450, 235000], [1550, 481015], [4400, 1050000], [3480, 1505000], [1890, 314950], [1990, 540000], [1900, 515000], [2990, 1055000], [1490, 411000], [1260, 245000], [2550, 369000], [2190, 769950], [2150, 368250], [1680, 620000], [2470, 360000], [1830, 274000], [870, 313000], [1175, 775000], [1802, 320000], [2590, 570000], [1390, 267500], [1890, 275000], [1620, 298000], [580, 330600], [1250, 463000], [1700, 500000], [2210, 334000], [1080, 228500], [3230, 699000], [1720, 441000], [2250, 637800], [3360, 590000], [1370, 689800], [3290, 810000], [2410, 440000], [1380, 425000], [3860, 820875], [1950, 260000], [1460, 699999], [1430, 394900], [2010, 310000], [1770, 373000], [3000, 415000], [2230, 646800], [880, 130000], [940, 350000], [1611, 850000], [1610, 630000], [2290, 670000], [1580, 296500], [2340, 390000], [2740, 378800], [2420, 1100000], [1260, 240000], [1230, 240000], [2640, 790000], [2180, 657000], [1320, 352000], [2880, 733000], [1800, 258500], [950, 304000], [2180, 359000], [1100, 220000], [2260, 405000], [3180, 1505000], [1420, 278000], [2020, 744000], [950, 445000], [1170, 282500], [670, 250000], [3140, 389950], [1670, 456000], [2130, 215000], [1030, 718000], [1780, 555000], [1810, 615500], [1800, 272750], [2030, 365000], [2360, 569900], [2130, 325000], [1490, 391000], [2370, 490000], [1690, 420000], [1950, 530000], [1230, 125000], [2140, 589999], [3350, 700000], [1490, 348000], [2890, 855000], [2160, 450000], [3450, 1035000], [1520, 198500], [2568, 425996], [3780, 833000], [2400, 592000], [1730, 379260], [2400, 575000], [3630, 1180000], [2400, 856600], [3040, 1600000], [2100, 299000], [1480, 663000], [1930, 490000], [2030, 621000], [1210, 414500], [3260, 820000], [1260, 452000], [1780, 375000], [2630, 1297000], [2130, 325250], [3050, 635000], [2010, 502000], [1920, 549000], [2340, 392000], [3370, 905000], [1920, 429000], [2490, 630000], [4260, 1065000], [1070, 325000], [790, 342888], [2410, 432000], [1160, 422000], [960, 500000], [2480, 325000], [1840, 334000], [1670, 555565], [2930, 749000], [1940, 295000], [950, 230000], [2100, 521900], [1730, 522000], [3930, 1740000], [3900, 1998000], [1000, 196000], [1250, 340000], [820, 260000], [750, 295000], [1940, 266000], [2090, 388000], [2390, 625000], [1980, 912000], [6085, 1610000], [1550, 685000], [2730, 981000], [2550, 675000], [2620, 355000], [1300, 415000], [2250, 559000], [1550, 225000], [2070, 635000], [1730, 299900], [2480, 630000], [2000, 318989], [2240, 238000], [1480, 398000], [1480, 350000], [2520, 442000], [2780, 690000], [2530, 525000], [960, 215000], [1570, 485000], [2680, 437500], [970, 300000], [1640, 269500], [1280, 405000], [1270, 594000], [1660, 548800], [3360, 945800], [900, 320000], [1680, 375000], [1300, 224500], [3880, 1030000], [750, 292500], [2100, 426500], [3340, 576000], [1646, 305000], [1090, 249000], [1160, 525000], [1190, 160134], [2440, 435000], [1530, 546000], [1660, 188000], [2550, 699000], [1740, 349000], [2000, 456500], [1510, 327000], [1400, 447000], [2000, 450000], [2180, 390000], [1680, 350000], [1640, 365000], [1110, 229800], [2440, 780000], [1540, 430000], [970, 303000], [1450, 355000], [1530, 458950], [830, 85000], [2740, 407500], [2810, 575000], [1920, 385000], [840, 208417], [1580, 349900], [1550, 645000], [1180, 400000], [1010, 350000], [1090, 140000], [1060, 182000], [1550, 229900], [1520, 366000], [2880, 429900], [1310, 310000], [1940, 790000], [1240, 540000], [2370, 479000], [4100, 2027000], [3850, 507000], [1910, 390000], [2510, 665000], [1020, 152275], [2640, 1545000], [740, 342000], [1640, 397000], [1800, 850000], [2200, 930000], [1710, 670000], [1740, 382000], [4340, 2150000], [1200, 165000], [2090, 700000], [2440, 680000], [830, 200000], [2437, 285000], [2270, 425000], [1780, 660000], [1920, 554000], [1090, 236000], [2860, 289275], [2190, 730000], [1260, 291500], [3140, 990000], [800, 280000], [3810, 839900], [1950, 395000], [2880, 920000], [1250, 530000], [910, 128000], [2040, 500000], [1850, 572000], [2230, 482000], [1620, 387000], [1610, 215000], [1030, 240000], [1320, 462600], [1640, 645000], [2590, 695000], [3180, 510000], [2610, 925000], [1320, 390000], [3110, 379900], [1560, 598500], [2130, 381000], [3290, 799000], [1680, 286000], [710, 257500], [3360, 725000], [2110, 380000], [3180, 1000000], [1370, 359000], [3160, 840000], [1510, 260000], [1630, 300000], [2180, 435000], [1540, 384950], [1930, 285000], [1590, 395825], [2790, 378000], [3260, 1880000], [2390, 735000], [910, 275000], [1720, 500000], [2330, 660000], [1370, 355000], [2980, 565000], [2170, 242050], [1000, 200000], [1960, 575000], [1300, 360000], [3320, 850000], [1870, 285000], [1260, 479000], [1430, 424000], [1950, 530000], [1260, 354000], [3600, 403500], [2670, 550000], [1870, 288400], [800, 414000], [1240, 214000], [2020, 464900], [2780, 705000], [1410, 405000], [2550, 543500], [2090, 315000], [2400, 390000], [2280, 349000], [1610, 575000], [1760, 255000], [3370, 760000], [1060, 285000], [1420, 230000], [1070, 265000], [2050, 689500], [1440, 445000], [4700, 1135000], [1900, 650000], [2190, 435000], [2500, 950000], [1870, 314000], [2560, 925000], [2850, 900000], [1580, 249000], [1220, 526000], [1460, 705000], [2650, 569995], [2040, 417000], [2010, 627800], [2710, 430760], [1550, 445000], [1400, 349950], [1670, 280000], [2502, 453000], [2100, 468000], [1920, 295000], [790, 250275], [1340, 349000], [1130, 315450], [2100, 1000000], [2600, 525000], [1590, 385000]], \"columns\": [{\"dtype\": \"str\", \"name\": \"id\"}, {\"dtype\": \"datetime\", \"name\": \"date\"}, {\"dtype\": \"int\", \"name\": \"price\"}, {\"dtype\": \"str\", \"name\": \"bedrooms\"}, {\"dtype\": \"str\", \"name\": \"bathrooms\"}, {\"dtype\": \"int\", \"name\": \"sqft_living\"}, {\"dtype\": \"int\", \"name\": \"sqft_lot\"}, {\"dtype\": \"str\", \"name\": \"floors\"}, {\"dtype\": \"int\", \"name\": \"waterfront\"}, {\"dtype\": \"int\", \"name\": \"view\"}, {\"dtype\": \"int\", \"name\": \"condition\"}, {\"dtype\": \"int\", \"name\": \"grade\"}, {\"dtype\": \"int\", \"name\": \"sqft_above\"}, {\"dtype\": \"int\", \"name\": \"sqft_basement\"}, {\"dtype\": \"int\", \"name\": \"yr_built\"}, {\"dtype\": \"int\", \"name\": \"yr_renovated\"}, {\"dtype\": \"str\", \"name\": \"zipcode\"}, {\"dtype\": \"float\", \"name\": \"lat\"}, {\"dtype\": \"float\", \"name\": \"long\"}, {\"dtype\": \"float\", \"name\": \"sqft_living15\"}, {\"dtype\": \"float\", \"name\": \"sqft_lot15\"}]}, e);\n",
       "                });\n",
       "            })();\n",
       "        "
      ]
     },
     "metadata": {},
     "output_type": "display_data"
    }
   ],
   "source": [
    "graphlab.canvas.set_target('ipynb')\n",
    "sales.show(view=\"Scatter Plot\", x=\"sqft_living\", y=\"price\")"
   ]
  },
  {
   "cell_type": "code",
   "execution_count": 8,
   "metadata": {
    "collapsed": true
   },
   "outputs": [],
   "source": [
    "# Create simple regression model"
   ]
  },
  {
   "cell_type": "code",
   "execution_count": 9,
   "metadata": {
    "collapsed": true
   },
   "outputs": [],
   "source": [
    "train_data,test_data = sales.random_split(0.8,seed=0)"
   ]
  },
  {
   "cell_type": "code",
   "execution_count": 10,
   "metadata": {
    "collapsed": true
   },
   "outputs": [],
   "source": [
    "# Build regression model"
   ]
  },
  {
   "cell_type": "code",
   "execution_count": 11,
   "metadata": {
    "collapsed": false
   },
   "outputs": [
    {
     "name": "stdout",
     "output_type": "stream",
     "text": [
      "PROGRESS: Creating a validation set from 5 percent of training data. This may take a while.\n",
      "          You can set ``validation_set=None`` to disable validation tracking.\n",
      "\n",
      "PROGRESS: Linear regression:\n",
      "PROGRESS: --------------------------------------------------------\n",
      "PROGRESS: Number of examples          : 16482\n",
      "PROGRESS: Number of features          : 1\n",
      "PROGRESS: Number of unpacked features : 1\n",
      "PROGRESS: Number of coefficients    : 2\n",
      "PROGRESS: Starting Newton Method\n",
      "PROGRESS: --------------------------------------------------------\n",
      "PROGRESS: +-----------+----------+--------------+--------------------+----------------------+---------------+-----------------+\n",
      "PROGRESS: | Iteration | Passes   | Elapsed Time | Training-max_error | Validation-max_error | Training-rmse | Validation-rmse |\n",
      "PROGRESS: +-----------+----------+--------------+--------------------+----------------------+---------------+-----------------+\n",
      "PROGRESS: | 1         | 2        | 1.035307     | 4352823.699098     | 2901508.987700       | 262133.039654 | 277343.631131   |\n",
      "PROGRESS: +-----------+----------+--------------+--------------------+----------------------+---------------+-----------------+\n"
     ]
    }
   ],
   "source": [
    "sqft_model = graphlab.linear_regression.create(train_data, target='price', features=['sqft_living'])"
   ]
  },
  {
   "cell_type": "code",
   "execution_count": 12,
   "metadata": {
    "collapsed": true
   },
   "outputs": [],
   "source": [
    "# Evaluate simple model"
   ]
  },
  {
   "cell_type": "code",
   "execution_count": 13,
   "metadata": {
    "collapsed": false
   },
   "outputs": [
    {
     "name": "stdout",
     "output_type": "stream",
     "text": [
      "543054.042563\n"
     ]
    }
   ],
   "source": [
    "print test_data['price'].mean()"
   ]
  },
  {
   "cell_type": "code",
   "execution_count": 14,
   "metadata": {
    "collapsed": false
   },
   "outputs": [
    {
     "name": "stdout",
     "output_type": "stream",
     "text": [
      "{'max_error': 4146198.0118155307, 'rmse': 255188.74668786794}\n"
     ]
    }
   ],
   "source": [
    "print sqft_model.evaluate(test_data)"
   ]
  },
  {
   "cell_type": "code",
   "execution_count": 15,
   "metadata": {
    "collapsed": true
   },
   "outputs": [],
   "source": [
    "# Lets show what our prediction looks like"
   ]
  },
  {
   "cell_type": "code",
   "execution_count": 16,
   "metadata": {
    "collapsed": false
   },
   "outputs": [],
   "source": [
    "import matplotlib.pyplot as plt\n",
    "%matplotlib inline"
   ]
  },
  {
   "cell_type": "code",
   "execution_count": 17,
   "metadata": {
    "collapsed": false
   },
   "outputs": [
    {
     "name": "stdout",
     "output_type": "stream",
     "text": [
      "[<matplotlib.lines.Line2D object at 0x7f68500b1210>, <matplotlib.lines.Line2D object at 0x7f683db51ad0>]\n"
     ]
    },
    {
     "data": {
      "image/png": "[encoded data removed]",
      "text/plain": [
       "<matplotlib.figure.Figure at 0x7f6832f2d090>"
      ]
     },
     "metadata": {},
     "output_type": "display_data"
    }
   ],
   "source": [
    "print plt.plot(test_data['sqft_living'], test_data['price'], \".\",test_data['sqft_living'], sqft_model.predict(test_data), \"-\")"
   ]
  },
  {
   "cell_type": "code",
   "execution_count": null,
   "metadata": {
    "collapsed": true
   },
   "outputs": [],
   "source": []
  }
 ],
 "metadata": {
  "kernelspec": {
   "display_name": "Python 2",
   "language": "python",
   "name": "python2"
  },
  "language_info": {
   "codemirror_mode": {
    "name": "ipython",
    "version": 2
   },
   "file_extension": ".py",
   "mimetype": "text/x-python",
   "name": "python",
   "nbconvert_exporter": "python",
   "pygments_lexer": "ipython2",
   "version": "2.7.6"
  }
 },
 "nbformat": 4,
 "nbformat_minor": 0
}
